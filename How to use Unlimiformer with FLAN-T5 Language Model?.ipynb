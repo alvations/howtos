{
 "cells": [
  {
   "cell_type": "code",
   "execution_count": 1,
   "id": "49720a79",
   "metadata": {},
   "outputs": [],
   "source": [
    "from unlimiformer import UnlimiformerArguments, Unlimiformer\n",
    "\n",
    "from transformers import AutoTokenizer, AutoModelForSeq2SeqLM"
   ]
  },
  {
   "cell_type": "code",
   "execution_count": 3,
   "id": "c2db9651",
   "metadata": {},
   "outputs": [],
   "source": [
    "\n",
    "defaults = UnlimiformerArguments()\n",
    "unlimiformer_kwargs = {\n",
    "            'layer_begin': defaults.layer_begin, \n",
    "            'layer_end': defaults.layer_end,\n",
    "            'unlimiformer_head_num': defaults.unlimiformer_head_num, \n",
    "            'exclude_attention': defaults.unlimiformer_exclude, \n",
    "            'chunk_overlap': defaults.unlimiformer_chunk_overlap,\n",
    "            'model_encoder_max_len': defaults.unlimiformer_chunk_size,\n",
    "            'verbose': defaults.unlimiformer_verbose, 'tokenizer': tokenizer,\n",
    "            'unlimiformer_training': defaults.unlimiformer_training,\n",
    "            'use_datastore': defaults.use_datastore,\n",
    "            'flat_index': defaults.flat_index,\n",
    "            'test_datastore': defaults.test_datastore,\n",
    "            'reconstruct_embeddings': defaults.reconstruct_embeddings,\n",
    "            'gpu_datastore': defaults.gpu_datastore,\n",
    "            'gpu_index': defaults.gpu_index\n",
    "}\n"
   ]
  },
  {
   "cell_type": "code",
   "execution_count": 10,
   "id": "b1c7e480",
   "metadata": {},
   "outputs": [],
   "source": [
    "tokenizer = AutoTokenizer.from_pretrained(\"google/flan-t5-small\")\n",
    "\n",
    "model = AutoModelForSeq2SeqLM.from_pretrained(\"google/flan-t5-small\")\n",
    "\n",
    "unlimited_model = Unlimiformer.convert_model(model, **unlimiformer_kwargs)\n",
    "\n",
    "unlimited_model.eval()"
   ]
  },
  {
   "cell_type": "code",
   "execution_count": 7,
   "id": "32f0769c",
   "metadata": {},
   "outputs": [
    {
     "name": "stderr",
     "output_type": "stream",
     "text": [
      "Token indices sequence length is longer than the specified maximum sequence length for this model (1151 > 512). Running this sequence through the model will result in indexing errors\n"
     ]
    }
   ],
   "source": [
    "example_input = \"\"\"Howth has been settled since prehistoric times, and features in Irish mythology. A fishing village and small trading port from at least the 14th century, Howth has grown to become a busy and affluent suburb of Dublin, with a mix of suburban residential development, wild hillside and heathland, golf courses, cliff and coastal paths, a small quarry and a busy commercial fishing port. The only neighbouring district on land is Sutton. Howth is also home to one of the oldest occupied buildings in Ireland, Howth Castle, and its estate.\n",
    "After Brian Ború, the High King of Ireland, defeated the Norse in 1014, many Norse fled to Howth to regroup and remained a force until their final defeat in Fingal in the middle of the 11th century. Howth still remained under the control of Irish and localised Norse forces until the invasion of Ireland by the Anglo-Normans in 1169.\n",
    "\n",
    "Without the support of either the Irish or Scandinavian powers, Howth was isolated and fell to the Normans in 1177. One of the victorious Normans, Armoricus (or Almeric) Tristram, was granted much of the land between the village and Sutton. According to the historian Samuel Lewis:\n",
    "\n",
    "In 1177, Sir Amorey Tristram and Sir John de Courcy landed here at the head of a large military force, and totally defeated the Danish inhabitants in a sanguinary battle at the bridge of Evora, over a mountain stream which falls into the sea near the Baily lighthouse. This victory secured to Sir Amorey the lordship of Howth, of which his descendants have continued in possession to the present day, under the name of St. Laurence, which Almaric, third baron, assumed in fulfilment of a vow previously to his victory over the Danes near Clontarf, in a battle fought on the festival of that saint. The territory of Howth was confirmed to Almaric de St. Laurence by King John....\n",
    "\n",
    "On 26 July 1914, 900 rifles were landed at Howth by Erskine Childers for the Irish Volunteers. Many were used against the British in the Easter Rising and in the subsequent Anglo-Irish War. Among the members of the Howth branches of the Irish Volunteers and Cumann na mBan who participated in this event were the well-known writers Padraic Colum and Mary Colum. Members of both the Howth Volunteers and Baldoyle section of the Irish Citizen Army participated in the Easter Rising in Dublin city and in Fingal. A strong local branch of Sinn Féin developed in the area and there was considerable local involvement in both the Irish War of Independence and Irish Civil War.\n",
    "\n",
    "Howth Head is one of the dominant features of Dublin Bay, with a number of peaks, the highest of which is Black Linn. In one area, near Shielmartin, there is a small peat bog, the \"Bog of the Frogs\". The wilder parts of Howth can be accessed by a network of paths (many are rights of way) and much of the centre and east is protected as part of a Special Area of Conservation of 2.3 square kilometres (570 acres), as well as by a Special Amenity Area Order.\n",
    "\n",
    "The peninsula has a number of small, fast-running streams, three of which run through the village, with more, including the Bloody Stream, in the adjacent Howth Demesne. The streams passing through the village are, from east to west, Coulcour Brook (falling to Balscadden Bay), Gray's Brook or the Boggeen Stream (falling to the eastern end of the harbour), and Offington Stream (passing under Findlater's to the western side of the harbour). Other streams are met along the cliff walks, including the Whitewater Brook, with a tributary in a sunken area of plants and ponds, and then the Balsaggart Stream.\n",
    "\n",
    "More than half of Howth Head, and of the Howth area, totalling around 1,500 acres, is subject to a Special Amenity Area Order, a provision of Irish law designed to protect areas of natural beauty or biodiversity. Prepared by the local authority, after a consultative process under a community environmental process known as SEMPA,[27] and formally proposed by Brendan Howlin as a minister, the order was developed in cooperation with a unit of Trinity College Dublin. It was made in 1999, confirmed in 2000, and is subject to 5-yearly reviews, the most recent having been conducted in 2015.[28] At the time of its making the majority of the lands covered formed part of the Howth Estate, with the other significant landowners being developers Treasury Holdings (85 hectares) and Gerry Gannon (33 hectares), and Howth Golf Club (48 hectares). The Council stated that the order was needed to protect the environment of the designated area by restricting development there, while recognising the need \"to encourage tourism-related developments in the remainder of Howth\".\n",
    "\"\"\"\n",
    "\n",
    "mt_input = f\"\"\"Translate English to German: {example_input}\"\"\"\n",
    "\n",
    "example = tokenizer(mt_input, truncation=False, return_tensors=\"pt\")\n"
   ]
  },
  {
   "cell_type": "code",
   "execution_count": 11,
   "id": "8b3c861c",
   "metadata": {},
   "outputs": [],
   "source": [
    "unlimiformer_out = tokenizer.batch_decode(unlimited_model.generate(**example, max_length=512), ignore_special_tokens=True)"
   ]
  },
  {
   "cell_type": "code",
   "execution_count": 12,
   "id": "d1422ab6",
   "metadata": {},
   "outputs": [
    {
     "data": {
      "text/plain": [
       "['<pad> Wieth wurde seit den letzten Jahren ernsthafte und affluent von Dublin, mit einer Mischung von suburbane Entwicklung, Wildhille und Wärmehland, Golfes, cliffe und Küsten, a small quarry und a busy commercial fishing port. Die einzigen neighbourne district on land is Sutton. Wieth is also home to one of the oldest occupied buildings in Ireland, Howth Castle, and its estate. After Brian Bor<unk>, the High King of Ireland, defeated the Norse in 1014, many Norse fled to Howth to regroup and remained a force until their final defeat in Fingal in the middle of the 11th century. Howth still remained under the control of Irish and localised Norse forces until the invasion of Ireland by the Anglo-Normans in 1169. Without the support of either Irish or Scandinavian powers, Howth was isolated and fell to the Normans in 1177. Armoricus (or Almeric) Tristram, was granted much of the land between the village and Sutton. According to the historian Samuel Lewis: In 1177, Sir Amorey Tristram and Sir John de Courcy landed here at the head of a large military force, and totally defeated the Danish inhabitants in a sanguinary battle at the bridge of Evora, over a mountain stream which falls into the sea near the Baily lighthouse. Wieth victory secured to Sir Amorey the lordship of Howth, of which his descendants have continued in possession to the present day, under the guidance of the historian Samuel Lewis: In 1177, Sir Amorey Tristram and Sir John de Courcy landed here at the head of a large military force, and totally defeated the Danish inhabitants in a sanguinary battle at the bridge of Evora, over a mountain stream which falls into the sea near the Baily lighthouse. Wieth victory secured to Sir Amorey the lordship of Howth, of which his descendants have continued in possession to the present day, under the guidance of the guidance of the guidance of howth.</s>']"
      ]
     },
     "execution_count": 12,
     "metadata": {},
     "output_type": "execute_result"
    }
   ],
   "source": [
    "unlimiformer_out"
   ]
  },
  {
   "cell_type": "code",
   "execution_count": null,
   "id": "7d53d780",
   "metadata": {},
   "outputs": [],
   "source": []
  }
 ],
 "metadata": {
  "kernelspec": {
   "display_name": "Python 3",
   "language": "python",
   "name": "python3"
  },
  "language_info": {
   "codemirror_mode": {
    "name": "ipython",
    "version": 3
   },
   "file_extension": ".py",
   "mimetype": "text/x-python",
   "name": "python",
   "nbconvert_exporter": "python",
   "pygments_lexer": "ipython3",
   "version": "3.8.2"
  }
 },
 "nbformat": 4,
 "nbformat_minor": 5
}
